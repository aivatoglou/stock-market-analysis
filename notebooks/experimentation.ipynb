{
 "cells": [
  {
   "cell_type": "code",
   "execution_count": 1,
   "id": "c30edeef",
   "metadata": {},
   "outputs": [],
   "source": [
    "import matplotlib.pyplot as plt\n",
    "%matplotlib inline\n",
    "\n",
    "import torch\n",
    "import pandas as pd\n",
    "import numpy as np\n",
    "from sklearn.metrics import r2_score\n",
    "\n",
    "SEED   = 3333\n",
    "EPOCHS = 500\n",
    "gpu = torch.cuda.is_available()"
   ]
  },
  {
   "cell_type": "code",
   "execution_count": 2,
   "id": "5ec3a795",
   "metadata": {},
   "outputs": [
    {
     "data": {
      "text/html": [
       "<div>\n",
       "<style scoped>\n",
       "    .dataframe tbody tr th:only-of-type {\n",
       "        vertical-align: middle;\n",
       "    }\n",
       "\n",
       "    .dataframe tbody tr th {\n",
       "        vertical-align: top;\n",
       "    }\n",
       "\n",
       "    .dataframe thead th {\n",
       "        text-align: right;\n",
       "    }\n",
       "</style>\n",
       "<table border=\"1\" class=\"dataframe\">\n",
       "  <thead>\n",
       "    <tr style=\"text-align: right;\">\n",
       "      <th></th>\n",
       "      <th>Close</th>\n",
       "    </tr>\n",
       "  </thead>\n",
       "  <tbody>\n",
       "    <tr>\n",
       "      <th>1981-01-02</th>\n",
       "      <td>0.154018</td>\n",
       "    </tr>\n",
       "    <tr>\n",
       "      <th>1981-01-03</th>\n",
       "      <td>0.152902</td>\n",
       "    </tr>\n",
       "    <tr>\n",
       "      <th>1981-01-04</th>\n",
       "      <td>0.151786</td>\n",
       "    </tr>\n",
       "    <tr>\n",
       "      <th>1981-01-05</th>\n",
       "      <td>0.150670</td>\n",
       "    </tr>\n",
       "    <tr>\n",
       "      <th>1981-01-06</th>\n",
       "      <td>0.143973</td>\n",
       "    </tr>\n",
       "    <tr>\n",
       "      <th>...</th>\n",
       "      <td>...</td>\n",
       "    </tr>\n",
       "    <tr>\n",
       "      <th>2020-12-27</th>\n",
       "      <td>135.510002</td>\n",
       "    </tr>\n",
       "    <tr>\n",
       "      <th>2020-12-28</th>\n",
       "      <td>136.690002</td>\n",
       "    </tr>\n",
       "    <tr>\n",
       "      <th>2020-12-29</th>\n",
       "      <td>134.869995</td>\n",
       "    </tr>\n",
       "    <tr>\n",
       "      <th>2020-12-30</th>\n",
       "      <td>133.720001</td>\n",
       "    </tr>\n",
       "    <tr>\n",
       "      <th>2020-12-31</th>\n",
       "      <td>132.690002</td>\n",
       "    </tr>\n",
       "  </tbody>\n",
       "</table>\n",
       "<p>14609 rows × 1 columns</p>\n",
       "</div>"
      ],
      "text/plain": [
       "                 Close\n",
       "1981-01-02    0.154018\n",
       "1981-01-03    0.152902\n",
       "1981-01-04    0.151786\n",
       "1981-01-05    0.150670\n",
       "1981-01-06    0.143973\n",
       "...                ...\n",
       "2020-12-27  135.510002\n",
       "2020-12-28  136.690002\n",
       "2020-12-29  134.869995\n",
       "2020-12-30  133.720001\n",
       "2020-12-31  132.690002\n",
       "\n",
       "[14609 rows x 1 columns]"
      ]
     },
     "execution_count": 2,
     "metadata": {},
     "output_type": "execute_result"
    }
   ],
   "source": [
    "df = pd.read_csv(\"AAPL.csv\")\n",
    "df = df[[\"Date\",\"Close\"]]\n",
    "\n",
    "df.index = pd.to_datetime(df['Date'])\n",
    "dates = pd.date_range(df.index.min(), df.index.max())\n",
    "df = df.reindex(dates, fill_value=0)\n",
    "df = df.drop('Date', axis=1)\n",
    "df.replace(0, np.NaN, inplace=True)\n",
    "df = df.interpolate()\n",
    "df"
   ]
  },
  {
   "cell_type": "code",
   "execution_count": 3,
   "id": "c5145f3f",
   "metadata": {},
   "outputs": [
    {
     "name": "stdout",
     "output_type": "stream",
     "text": [
      "(14595, 7) (14595, 7)\n"
     ]
    }
   ],
   "source": [
    "window = 7\n",
    "\n",
    "X = []\n",
    "y = []\n",
    "\n",
    "for i in range(window, len(df)):\n",
    "\n",
    "    if window+i < len(df):\n",
    "        X.append(df['Close'].iloc[i-window:i].values.tolist())\n",
    "        y.append(df['Close'].iloc[i:window+i].values.tolist())\n",
    "    else:\n",
    "        break\n",
    "\n",
    "_X = np.array(X)\n",
    "_y = np.asarray(y)\n",
    "\n",
    "print(_X.shape, _y.shape)"
   ]
  },
  {
   "cell_type": "code",
   "execution_count": 4,
   "id": "2d7d216f",
   "metadata": {},
   "outputs": [
    {
     "name": "stdout",
     "output_type": "stream",
     "text": [
      "(11676, 7) (11676, 7) (1460, 7) (1460, 7) (1459, 7) (1459, 7)\n"
     ]
    }
   ],
   "source": [
    "from sklearn.model_selection import train_test_split\n",
    "\n",
    "X_train, X_test, y_train, y_test = train_test_split(_X, _y, test_size=0.2, random_state=SEED)\n",
    "X_test, X_valid, y_test, y_valid = train_test_split(X_test, y_test, test_size=0.5, random_state=SEED)\n",
    "\n",
    "print(X_train.shape, y_train.shape, X_valid.shape, y_valid.shape, X_test.shape, y_test.shape)"
   ]
  },
  {
   "cell_type": "code",
   "execution_count": 5,
   "id": "5f9d284f",
   "metadata": {},
   "outputs": [],
   "source": [
    "class ResLayer(torch.nn.Module):\n",
    "    \n",
    "    def __init__(self, in_units, width):\n",
    "        \n",
    "        super(ResLayer, self).__init__()\n",
    "        self.linear  = torch.nn.Linear(width, width)\n",
    "        self.layer_norm     = torch.nn.LayerNorm(in_units)\n",
    "    \n",
    "    def forward(self, x):\n",
    "        \n",
    "        out = self.layer_norm(x)\n",
    "        out = torch.nn.functional.relu(out)\n",
    "        out = self.linear(out)\n",
    "                          \n",
    "        return x + out\n",
    "        \n",
    "def make_network(input_dim=7, width=64, L=2, out_features=7):\n",
    "    \n",
    "    network = torch.nn.Sequential(torch.nn.Linear(input_dim, width), \n",
    "                                  * [ResLayer(width, width) for _ in range(L)],\n",
    "                                  torch.nn.LayerNorm(width), \n",
    "                                  torch.nn.Linear(width, out_features))\n",
    "    return network\n"
   ]
  },
  {
   "cell_type": "code",
   "execution_count": 6,
   "id": "4042b950",
   "metadata": {},
   "outputs": [],
   "source": [
    "X_train = torch.Tensor(X_train)\n",
    "y_train = torch.Tensor(y_train)\n",
    "\n",
    "X_valid = torch.Tensor(X_valid)\n",
    "y_valid = torch.Tensor(y_valid)\n",
    "\n",
    "X_test = torch.Tensor(X_test)\n",
    "y_test = torch.Tensor(y_test)"
   ]
  },
  {
   "cell_type": "code",
   "execution_count": 7,
   "id": "d40fcef5",
   "metadata": {},
   "outputs": [],
   "source": [
    "train_dataset = torch.utils.data.TensorDataset(X_train, y_train) \n",
    "valid_dataset = torch.utils.data.TensorDataset(X_valid, y_valid) \n",
    "test_dataset = torch.utils.data.TensorDataset(X_test, y_test) \n",
    "\n",
    "train_dataloader = torch.utils.data.DataLoader(train_dataset, batch_size=128, drop_last=True, shuffle=True)\n",
    "valid_dataloader = torch.utils.data.DataLoader(valid_dataset, batch_size=512, drop_last=True)\n",
    "test_dataloader = torch.utils.data.DataLoader(test_dataset, batch_size=512, drop_last=True)"
   ]
  },
  {
   "cell_type": "code",
   "execution_count": 8,
   "id": "d4b2fdf9",
   "metadata": {},
   "outputs": [],
   "source": [
    "net = make_network()\n",
    "\n",
    "if gpu:\n",
    "    net.cuda()\n",
    "\n",
    "loss_function = torch.nn.L1Loss()\n",
    "optimizer = torch.optim.Adam(net.parameters(), lr=1e-4)"
   ]
  },
  {
   "cell_type": "code",
   "execution_count": 9,
   "id": "cf51893f",
   "metadata": {},
   "outputs": [
    {
     "name": "stdout",
     "output_type": "stream",
     "text": [
      "Epoch 10 \t Training Loss: 7.66051 \t Validation Loss: 7.21072\n",
      "Epoch 20 \t Training Loss: 5.71472 \t Validation Loss: 5.38827\n",
      "Epoch 30 \t Training Loss: 4.14970 \t Validation Loss: 3.95286\n",
      "Epoch 40 \t Training Loss: 3.09125 \t Validation Loss: 2.94806\n",
      "Epoch 50 \t Training Loss: 2.42452 \t Validation Loss: 2.30585\n",
      "Epoch 60 \t Training Loss: 1.92219 \t Validation Loss: 1.81714\n",
      "Epoch 70 \t Training Loss: 1.60155 \t Validation Loss: 1.48774\n",
      "Epoch 80 \t Training Loss: 1.39036 \t Validation Loss: 1.26880\n",
      "Epoch 90 \t Training Loss: 1.23452 \t Validation Loss: 1.10836\n",
      "Epoch 100 \t Training Loss: 1.11651 \t Validation Loss: 0.98480\n",
      "Epoch 110 \t Training Loss: 1.00772 \t Validation Loss: 0.87653\n",
      "Epoch 120 \t Training Loss: 0.90721 \t Validation Loss: 0.78295\n",
      "Epoch 130 \t Training Loss: 0.82570 \t Validation Loss: 0.71019\n",
      "Epoch 140 \t Training Loss: 0.75919 \t Validation Loss: 0.63851\n",
      "Epoch 150 \t Training Loss: 0.70177 \t Validation Loss: 0.55486\n",
      "Epoch 160 \t Training Loss: 0.63931 \t Validation Loss: 0.50647\n",
      "Epoch 170 \t Training Loss: 0.60073 \t Validation Loss: 0.48580\n",
      "Epoch 180 \t Training Loss: 0.56601 \t Validation Loss: 0.44081\n",
      "Epoch 190 \t Training Loss: 0.52728 \t Validation Loss: 0.41428\n",
      "Epoch 200 \t Training Loss: 0.49289 \t Validation Loss: 0.38125\n",
      "Epoch 210 \t Training Loss: 0.45963 \t Validation Loss: 0.35286\n",
      "Epoch 220 \t Training Loss: 0.43126 \t Validation Loss: 0.32721\n",
      "Epoch 230 \t Training Loss: 0.39852 \t Validation Loss: 0.30959\n",
      "Epoch 240 \t Training Loss: 0.36968 \t Validation Loss: 0.28727\n",
      "Epoch 250 \t Training Loss: 0.34322 \t Validation Loss: 0.26896\n",
      "Epoch 260 \t Training Loss: 0.31592 \t Validation Loss: 0.25637\n",
      "Epoch 270 \t Training Loss: 0.29947 \t Validation Loss: 0.25253\n",
      "Epoch 280 \t Training Loss: 0.27146 \t Validation Loss: 0.23156\n",
      "Epoch 290 \t Training Loss: 0.25069 \t Validation Loss: 0.23881\n",
      "Epoch 300 \t Training Loss: 0.24086 \t Validation Loss: 0.22637\n",
      "Epoch 310 \t Training Loss: 0.23851 \t Validation Loss: 0.21586\n",
      "Epoch 320 \t Training Loss: 0.23610 \t Validation Loss: 0.21343\n",
      "Epoch 330 \t Training Loss: 0.22873 \t Validation Loss: 0.21136\n",
      "Epoch 340 \t Training Loss: 0.22786 \t Validation Loss: 0.21070\n",
      "Epoch 350 \t Training Loss: 0.22848 \t Validation Loss: 0.23043\n",
      "Epoch 360 \t Training Loss: 0.23085 \t Validation Loss: 0.22447\n",
      "Epoch 370 \t Training Loss: 0.22545 \t Validation Loss: 0.22955\n",
      "Epoch 380 \t Training Loss: 0.22703 \t Validation Loss: 0.22116\n",
      "Epoch 390 \t Training Loss: 0.22694 \t Validation Loss: 0.22169\n",
      "Epoch 400 \t Training Loss: 0.22068 \t Validation Loss: 0.21642\n",
      "Epoch 410 \t Training Loss: 0.22245 \t Validation Loss: 0.22101\n",
      "Epoch 420 \t Training Loss: 0.22287 \t Validation Loss: 0.21954\n",
      "Epoch 430 \t Training Loss: 0.22119 \t Validation Loss: 0.23681\n",
      "Epoch 440 \t Training Loss: 0.22005 \t Validation Loss: 0.21598\n",
      "Epoch 450 \t Training Loss: 0.21834 \t Validation Loss: 0.21643\n",
      "Epoch 460 \t Training Loss: 0.22172 \t Validation Loss: 0.21961\n",
      "Epoch 470 \t Training Loss: 0.21899 \t Validation Loss: 0.22103\n",
      "Epoch 480 \t Training Loss: 0.21795 \t Validation Loss: 0.21147\n",
      "Epoch 490 \t Training Loss: 0.21808 \t Validation Loss: 0.21443\n",
      "Epoch 500 \t Training Loss: 0.21735 \t Validation Loss: 0.21815\n"
     ]
    }
   ],
   "source": [
    "for epoch in range(1, EPOCHS+1):\n",
    "    \n",
    "    net.train(True)\n",
    "    running_loss = 0.0\n",
    "    \n",
    "    # Iterate over batches\n",
    "    for index, batch in enumerate(train_dataloader):\n",
    "\n",
    "        inputs, targets = batch\n",
    "        if gpu:\n",
    "            inputs = inputs.cuda()\n",
    "            targets = targets.cuda()\n",
    "\n",
    "        # Zero the gradients for every batch\n",
    "        optimizer.zero_grad()\n",
    "\n",
    "        # Perform forward pass\n",
    "        outputs = net(inputs)\n",
    "\n",
    "        # Compute loss\n",
    "        loss = loss_function(outputs, targets)\n",
    "        \n",
    "        # Perform backward pass\n",
    "        loss.backward()\n",
    "\n",
    "        # Perform optimization\n",
    "        optimizer.step()\n",
    "        \n",
    "        running_loss += loss.item()\n",
    "    \n",
    "    if epoch % 10 == 0:\n",
    "        \n",
    "        net.train(False)\n",
    "        running_vloss = 0.0\n",
    "        \n",
    "        for _index, _batch in enumerate(valid_dataloader):\n",
    "            \n",
    "            _inputs, _targets = _batch\n",
    "            if gpu:\n",
    "                _inputs = _inputs.cuda()\n",
    "                _targets = _targets.cuda()\n",
    "                \n",
    "            _outputs = net(_inputs)\n",
    "            _loss = loss_function(_outputs, _targets)\n",
    "            running_vloss += _loss.item()\n",
    "        \n",
    "        avg_loss  = running_loss / (index + 1)\n",
    "        avg_vloss = running_vloss / (_index + 1)\n",
    "        print(f\"Epoch {epoch} \\t Training Loss: {avg_loss:.5f} \\t Validation Loss: {avg_vloss:.5f}\")"
   ]
  },
  {
   "cell_type": "code",
   "execution_count": 10,
   "id": "bdc1bb48",
   "metadata": {},
   "outputs": [],
   "source": [
    "net.train(False)\n",
    "correct, total = 0, 0\n",
    "\n",
    "for index, batch in enumerate(test_dataloader):\n",
    "\n",
    "    _inputs, _targets = _batch\n",
    "    if gpu:\n",
    "        _inputs = _inputs.cuda()\n",
    "        _targets = _targets.cuda()\n",
    "\n",
    "    _outputs = net(_inputs)"
   ]
  },
  {
   "cell_type": "code",
   "execution_count": 11,
   "id": "d6297b5f",
   "metadata": {},
   "outputs": [
    {
     "data": {
      "text/plain": [
       "0.9983975301941247"
      ]
     },
     "execution_count": 11,
     "metadata": {},
     "output_type": "execute_result"
    }
   ],
   "source": [
    "from sklearn.metrics import r2_score\n",
    "\n",
    "y_pred = _outputs.cpu().detach().numpy()\n",
    "y_true = _targets.cpu().detach().numpy()\n",
    "\n",
    "r2_score(y_true, y_pred)"
   ]
  },
  {
   "cell_type": "code",
   "execution_count": 12,
   "id": "18c4cab2",
   "metadata": {},
   "outputs": [
    {
     "data": {
      "image/png": "[encoded data removed]",
      "text/plain": [
       "<Figure size 640x480 with 1 Axes>"
      ]
     },
     "metadata": {},
     "output_type": "display_data"
    }
   ],
   "source": [
    "import matplotlib.pyplot as plt\n",
    "\n",
    "plt.plot(y_pred[511])\n",
    "plt.plot(y_true[511], '-.')\n",
    "plt.show()"
   ]
  },
  {
   "cell_type": "code",
   "execution_count": null,
   "id": "91e1fe6b",
   "metadata": {},
   "outputs": [],
   "source": []
  }
 ],
 "metadata": {
  "kernelspec": {
   "display_name": "Python 3 (ipykernel)",
   "language": "python",
   "name": "python3"
  },
  "language_info": {
   "codemirror_mode": {
    "name": "ipython",
    "version": 3
   },
   "file_extension": ".py",
   "mimetype": "text/x-python",
   "name": "python",
   "nbconvert_exporter": "python",
   "pygments_lexer": "ipython3",
   "version": "3.8.10"
  }
 },
 "nbformat": 4,
 "nbformat_minor": 5
}
